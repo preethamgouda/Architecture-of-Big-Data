{
  "nbformat": 4,
  "nbformat_minor": 0,
  "metadata": {
    "colab": {
      "provenance": []
    },
    "kernelspec": {
      "name": "python3",
      "display_name": "Python 3"
    },
    "language_info": {
      "name": "python"
    }
  },
  "cells": [
    {
      "cell_type": "code",
      "execution_count": 1,
      "metadata": {
        "colab": {
          "base_uri": "https://localhost:8080/"
        },
        "id": "DB2J_VT2a5Ae",
        "outputId": "df803d4e-96d5-421c-ecf9-6754cc4bc9ef"
      },
      "outputs": [
        {
          "output_type": "stream",
          "name": "stdout",
          "text": [
            "Collecting pyspark\n",
            "  Downloading pyspark-3.5.0.tar.gz (316.9 MB)\n",
            "\u001b[2K     \u001b[90m━━━━━━━━━━━━━━━━━━━━━━━━━━━━━━━━━━━━━━━━\u001b[0m \u001b[32m316.9/316.9 MB\u001b[0m \u001b[31m3.8 MB/s\u001b[0m eta \u001b[36m0:00:00\u001b[0m\n",
            "\u001b[?25h  Preparing metadata (setup.py) ... \u001b[?25l\u001b[?25hdone\n",
            "Requirement already satisfied: py4j==0.10.9.7 in /usr/local/lib/python3.10/dist-packages (from pyspark) (0.10.9.7)\n",
            "Building wheels for collected packages: pyspark\n",
            "  Building wheel for pyspark (setup.py) ... \u001b[?25l\u001b[?25hdone\n",
            "  Created wheel for pyspark: filename=pyspark-3.5.0-py2.py3-none-any.whl size=317425344 sha256=809425f51db062a823039bafd15d187f82a2ab46f8e0b14a11a97d3bf6acedbe\n",
            "  Stored in directory: /root/.cache/pip/wheels/41/4e/10/c2cf2467f71c678cfc8a6b9ac9241e5e44a01940da8fbb17fc\n",
            "Successfully built pyspark\n",
            "Installing collected packages: pyspark\n",
            "Successfully installed pyspark-3.5.0\n"
          ]
        }
      ],
      "source": [
        "!pip install pyspark\n",
        "import pyspark\n",
        "from pyspark.sql import SparkSession\n",
        "spark=SparkSession.builder.appName('DF').getOrCreate()\n",
        "from pyspark.sql.functions import *\n",
        "from pyspark.sql.types import *\n"
      ]
    },
    {
      "cell_type": "code",
      "source": [
        "df =spark.read.csv('/content/students.csv',header=True,inferSchema=True)"
      ],
      "metadata": {
        "id": "WFvlowJUa8jV"
      },
      "execution_count": 2,
      "outputs": []
    },
    {
      "cell_type": "code",
      "source": [
        "df.show()"
      ],
      "metadata": {
        "colab": {
          "base_uri": "https://localhost:8080/"
        },
        "id": "CgIlWLKrbbhm",
        "outputId": "55b9ca7d-338e-4026-83b2-363042b991f4"
      },
      "execution_count": 3,
      "outputs": [
        {
          "output_type": "stream",
          "name": "stdout",
          "text": [
            "+------+--------------+---------------------------+------------+-----------------------+----------+-------------+-------------+\n",
            "|gender|race/ethnicity|parental level of education|       lunch|test preparation course|math score|reading score|writing score|\n",
            "+------+--------------+---------------------------+------------+-----------------------+----------+-------------+-------------+\n",
            "|female|       group B|          bachelor's degree|    standard|                   none|        72|           72|           74|\n",
            "|female|       group C|               some college|    standard|              completed|        69|           90|           88|\n",
            "|female|       group B|            master's degree|    standard|                   none|        90|           95|           93|\n",
            "|  male|       group A|         associate's degree|free/reduced|                   none|        47|           57|           44|\n",
            "|  male|       group C|               some college|    standard|                   none|        76|           78|           75|\n",
            "|female|       group B|         associate's degree|    standard|                   none|        71|           83|           78|\n",
            "|female|       group B|               some college|    standard|              completed|        88|           95|           92|\n",
            "|  male|       group B|               some college|free/reduced|                   none|        40|           43|           39|\n",
            "|  male|       group D|                high school|free/reduced|              completed|        64|           64|           67|\n",
            "|female|       group B|                high school|free/reduced|                   none|        38|           60|           50|\n",
            "|  male|       group C|         associate's degree|    standard|                   none|        58|           54|           52|\n",
            "|  male|       group D|         associate's degree|    standard|                   none|        40|           52|           43|\n",
            "|female|       group B|                high school|    standard|                   none|        65|           81|           73|\n",
            "|  male|       group A|               some college|    standard|              completed|        78|           72|           70|\n",
            "|female|       group A|            master's degree|    standard|                   none|        50|           53|           58|\n",
            "|female|       group C|           some high school|    standard|                   none|        69|           75|           78|\n",
            "|  male|       group C|                high school|    standard|                   none|        88|           89|           86|\n",
            "|female|       group B|           some high school|free/reduced|                   none|        18|           32|           28|\n",
            "|  male|       group C|            master's degree|free/reduced|              completed|        46|           42|           46|\n",
            "|female|       group C|         associate's degree|free/reduced|                   none|        54|           58|           61|\n",
            "+------+--------------+---------------------------+------------+-----------------------+----------+-------------+-------------+\n",
            "only showing top 20 rows\n",
            "\n"
          ]
        }
      ]
    },
    {
      "cell_type": "code",
      "source": [
        "male_count = df.filter(col(\"gender\") == \"male\").count()\n",
        "female_count = df.filter(col(\"gender\") == \"female\").count()\n",
        "male_count"
      ],
      "metadata": {
        "colab": {
          "base_uri": "https://localhost:8080/"
        },
        "id": "LYVWuHqCbeL-",
        "outputId": "9b2975d4-7ae9-434b-a0a6-3e96494ea11a"
      },
      "execution_count": 4,
      "outputs": [
        {
          "output_type": "execute_result",
          "data": {
            "text/plain": [
              "482"
            ]
          },
          "metadata": {},
          "execution_count": 4
        }
      ]
    },
    {
      "cell_type": "code",
      "source": [
        "female_count"
      ],
      "metadata": {
        "colab": {
          "base_uri": "https://localhost:8080/"
        },
        "id": "jO5bf5nCb37K",
        "outputId": "5b741515-75af-4365-bd2f-c4196388de84"
      },
      "execution_count": 5,
      "outputs": [
        {
          "output_type": "execute_result",
          "data": {
            "text/plain": [
              "518"
            ]
          },
          "metadata": {},
          "execution_count": 5
        }
      ]
    },
    {
      "cell_type": "code",
      "source": [
        "ethnicity_list = df.select(\"race/ethnicity\").distinct().rdd.flatMap(lambda x: x).collect()\n",
        "ethnicity_list"
      ],
      "metadata": {
        "colab": {
          "base_uri": "https://localhost:8080/"
        },
        "id": "kXNHhiTDb5lu",
        "outputId": "e9309339-e7e8-4e15-ef7b-29ae333282c6"
      },
      "execution_count": 6,
      "outputs": [
        {
          "output_type": "execute_result",
          "data": {
            "text/plain": [
              "['group B', 'group C', 'group D', 'group A', 'group E']"
            ]
          },
          "metadata": {},
          "execution_count": 6
        }
      ]
    },
    {
      "cell_type": "code",
      "source": [
        "education_levels = df.select(\"parental level of education\").distinct().rdd.flatMap(lambda x: x).collect()\n",
        "education_levels"
      ],
      "metadata": {
        "colab": {
          "base_uri": "https://localhost:8080/"
        },
        "id": "hNuBDuI3b_yi",
        "outputId": "f9cf6712-3c8f-48df-9290-a4958334f731"
      },
      "execution_count": 7,
      "outputs": [
        {
          "output_type": "execute_result",
          "data": {
            "text/plain": [
              "['some high school',\n",
              " \"associate's degree\",\n",
              " 'high school',\n",
              " \"bachelor's degree\",\n",
              " \"master's degree\",\n",
              " 'some college']"
            ]
          },
          "metadata": {},
          "execution_count": 7
        }
      ]
    },
    {
      "cell_type": "code",
      "source": [
        "female_highschool_above_79_math = df.filter((col(\"gender\") == \"female\") & (col(\"parental level of education\") == \"high school\") & (col(\"math score\") > 79)).count()\n",
        "female_highschool_above_79_math"
      ],
      "metadata": {
        "colab": {
          "base_uri": "https://localhost:8080/"
        },
        "id": "QaLDln5TcHnm",
        "outputId": "caf68ff6-0c43-4e1d-cab9-481cdebcb653"
      },
      "execution_count": 8,
      "outputs": [
        {
          "output_type": "execute_result",
          "data": {
            "text/plain": [
              "5"
            ]
          },
          "metadata": {},
          "execution_count": 8
        }
      ]
    },
    {
      "cell_type": "code",
      "source": [
        "average_math_male = df.filter(col(\"gender\") == \"male\").agg(avg(\"math score\").alias(\"avg_math_male\")).collect()[0][\"avg_math_male\"]\n",
        "average_math_female = df.filter(col(\"gender\") == \"female\").agg(avg(\"math score\").alias(\"avg_math_female\")).collect()[0][\"avg_math_female\"]\n",
        "\n",
        "if average_math_male > average_math_female:\n",
        "  print(\"male avg is high :\",average_math_male)\n",
        "\n",
        "else:\n",
        "  print(\"female avg is high :\",average_math_female)"
      ],
      "metadata": {
        "colab": {
          "base_uri": "https://localhost:8080/"
        },
        "id": "BAsMkf-fcS5q",
        "outputId": "347f0b64-4637-44f1-936c-fc3aff99964f"
      },
      "execution_count": 9,
      "outputs": [
        {
          "output_type": "stream",
          "name": "stdout",
          "text": [
            "male avg is high : 68.72821576763485\n"
          ]
        }
      ]
    },
    {
      "cell_type": "code",
      "source": [
        "average_reading_male = df.filter(col(\"gender\") == \"male\").agg(avg(\"reading score\").alias(\"avg_reading_male\")).collect()[0][\"avg_reading_male\"]\n",
        "average_reading_female = df.filter(col(\"gender\") == \"female\").agg(avg(\"reading score\").alias(\"avg_reading_female\")).collect()[0][\"avg_reading_female\"]\n",
        "average_reading_male"
      ],
      "metadata": {
        "colab": {
          "base_uri": "https://localhost:8080/"
        },
        "id": "WL4PliZKcsRQ",
        "outputId": "9b2d6be1-1714-4dbe-cfb1-87a11c5566a1"
      },
      "execution_count": 10,
      "outputs": [
        {
          "output_type": "execute_result",
          "data": {
            "text/plain": [
              "65.47302904564316"
            ]
          },
          "metadata": {},
          "execution_count": 10
        }
      ]
    },
    {
      "cell_type": "code",
      "source": [
        "average_reading_female"
      ],
      "metadata": {
        "colab": {
          "base_uri": "https://localhost:8080/"
        },
        "id": "erkxtuKkcyAY",
        "outputId": "dd31a63d-2ddf-4d56-8154-b9ea45ce626a"
      },
      "execution_count": 11,
      "outputs": [
        {
          "output_type": "execute_result",
          "data": {
            "text/plain": [
              "72.60810810810811"
            ]
          },
          "metadata": {},
          "execution_count": 11
        }
      ]
    },
    {
      "cell_type": "code",
      "source": [
        "education_score_dependency = df.groupBy(\"parental level of education\").agg(avg(\"math score\").alias(\"avg_math\"), avg(\"reading score\").alias(\"avg_reading\"), avg(\"writing score\").alias(\"avg_writing\"))\n",
        "education_score_dependency.show()"
      ],
      "metadata": {
        "colab": {
          "base_uri": "https://localhost:8080/"
        },
        "id": "gaNUI6r6c55o",
        "outputId": "5547faa3-3d39-4b26-b9a5-d801c9127abc"
      },
      "execution_count": 12,
      "outputs": [
        {
          "output_type": "stream",
          "name": "stdout",
          "text": [
            "+---------------------------+------------------+-----------------+-----------------+\n",
            "|parental level of education|          avg_math|      avg_reading|      avg_writing|\n",
            "+---------------------------+------------------+-----------------+-----------------+\n",
            "|           some high school|63.497206703910614|66.93854748603351|64.88826815642459|\n",
            "|         associate's degree| 67.88288288288288|70.92792792792793| 69.8963963963964|\n",
            "|                high school| 62.13775510204081|64.70408163265306|62.44897959183673|\n",
            "|          bachelor's degree| 69.38983050847457|             73.0|73.38135593220339|\n",
            "|            master's degree|  69.7457627118644|75.37288135593221|75.67796610169492|\n",
            "|               some college|  67.1283185840708|69.46017699115045|68.84070796460178|\n",
            "+---------------------------+------------------+-----------------+-----------------+\n",
            "\n"
          ]
        }
      ]
    },
    {
      "cell_type": "code",
      "source": [
        "above_70_math_no_prep = df.filter((col(\"test preparation course\") == \"none\") & (col(\"math score\") > 70))\n",
        "above_70_math_no_prep.show()"
      ],
      "metadata": {
        "colab": {
          "base_uri": "https://localhost:8080/"
        },
        "id": "19CmsFjNc82E",
        "outputId": "3f5dff64-ec71-4b2a-ba1f-85a612b0a696"
      },
      "execution_count": 13,
      "outputs": [
        {
          "output_type": "stream",
          "name": "stdout",
          "text": [
            "+------+--------------+---------------------------+------------+-----------------------+----------+-------------+-------------+\n",
            "|gender|race/ethnicity|parental level of education|       lunch|test preparation course|math score|reading score|writing score|\n",
            "+------+--------------+---------------------------+------------+-----------------------+----------+-------------+-------------+\n",
            "|female|       group B|          bachelor's degree|    standard|                   none|        72|           72|           74|\n",
            "|female|       group B|            master's degree|    standard|                   none|        90|           95|           93|\n",
            "|  male|       group C|               some college|    standard|                   none|        76|           78|           75|\n",
            "|female|       group B|         associate's degree|    standard|                   none|        71|           83|           78|\n",
            "|  male|       group C|                high school|    standard|                   none|        88|           89|           86|\n",
            "|  male|       group A|            master's degree|free/reduced|                   none|        73|           74|           72|\n",
            "|  male|       group E|               some college|    standard|                   none|        97|           87|           82|\n",
            "|female|       group D|         associate's degree|    standard|                   none|        74|           81|           83|\n",
            "|  male|       group D|                high school|    standard|                   none|        88|           78|           75|\n",
            "|  male|       group E|         associate's degree|    standard|                   none|        72|           64|           63|\n",
            "|female|       group C|               some college|    standard|                   none|        73|           80|           82|\n",
            "|female|       group C|               some college|free/reduced|                   none|        76|           83|           88|\n",
            "|female|       group D|         associate's degree|    standard|                   none|        71|           71|           74|\n",
            "|female|       group D|           some high school|    standard|                   none|        73|           86|           82|\n",
            "|  male|       group C|                high school|    standard|                   none|        71|           79|           71|\n",
            "|female|       group B|               some college|    standard|                   none|        79|           86|           92|\n",
            "|  male|       group B|               some college|    standard|                   none|        79|           67|           67|\n",
            "|female|       group D|         associate's degree|    standard|                   none|        85|           91|           89|\n",
            "|female|       group D|            master's degree|    standard|                   none|        87|          100|          100|\n",
            "|  male|       group C|                high school|    standard|                   none|        84|           77|           74|\n",
            "+------+--------------+---------------------------+------------+-----------------------+----------+-------------+-------------+\n",
            "only showing top 20 rows\n",
            "\n"
          ]
        }
      ]
    },
    {
      "cell_type": "code",
      "source": [],
      "metadata": {
        "id": "hBikwKgNnSG4"
      },
      "execution_count": null,
      "outputs": []
    }
  ]
}