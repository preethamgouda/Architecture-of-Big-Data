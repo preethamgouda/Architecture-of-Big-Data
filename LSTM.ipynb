{
 "cells": [
  {
   "cell_type": "code",
   "execution_count": 1,
   "id": "b7fa4b0d",
   "metadata": {},
   "outputs": [],
   "source": [
    "import pandas as pd\n",
    "import matplotlib as mpl\n",
    "import matplotlib.pyplot as plt\n",
    "from sklearn.model_selection import train_test_split\n",
    "from keras.preprocessing.sequence import TimeseriesGenerator\n",
    "from sklearn.preprocessing import MinMaxScaler, StandardScaler\n",
    "import tensorflow as tf\n",
    "\n",
    "mpl.rcParams['figure.figsize'] = (10, 8)\n",
    "mpl.rcParams['axes.grid'] = False"
   ]
  },
  {
   "cell_type": "code",
   "execution_count": 2,
   "id": "8284b298",
   "metadata": {},
   "outputs": [],
   "source": [
    "df =pd.read_csv('Test_Signal_Data.csv')"
   ]
  },
  {
   "cell_type": "code",
   "execution_count": 3,
   "id": "91690e86",
   "metadata": {},
   "outputs": [
    {
     "data": {
      "text/html": [
       "<div>\n",
       "<style scoped>\n",
       "    .dataframe tbody tr th:only-of-type {\n",
       "        vertical-align: middle;\n",
       "    }\n",
       "\n",
       "    .dataframe tbody tr th {\n",
       "        vertical-align: top;\n",
       "    }\n",
       "\n",
       "    .dataframe thead th {\n",
       "        text-align: right;\n",
       "    }\n",
       "</style>\n",
       "<table border=\"1\" class=\"dataframe\">\n",
       "  <thead>\n",
       "    <tr style=\"text-align: right;\">\n",
       "      <th></th>\n",
       "      <th>Current</th>\n",
       "      <th>Fc</th>\n",
       "      <th>Tc</th>\n",
       "      <th>Tr</th>\n",
       "      <th>Tj</th>\n",
       "      <th>Fc_Faulty</th>\n",
       "      <th>Tc_Faulty</th>\n",
       "      <th>Tr_Faulty</th>\n",
       "    </tr>\n",
       "  </thead>\n",
       "  <tbody>\n",
       "    <tr>\n",
       "      <th>0</th>\n",
       "      <td>12.0</td>\n",
       "      <td>0.500</td>\n",
       "      <td>32.111391</td>\n",
       "      <td>35.444293</td>\n",
       "      <td>31.247891</td>\n",
       "      <td>0.500</td>\n",
       "      <td>32.111391</td>\n",
       "      <td>35.444293</td>\n",
       "    </tr>\n",
       "    <tr>\n",
       "      <th>1</th>\n",
       "      <td>12.0</td>\n",
       "      <td>0.500</td>\n",
       "      <td>32.263773</td>\n",
       "      <td>34.946917</td>\n",
       "      <td>31.552655</td>\n",
       "      <td>0.500</td>\n",
       "      <td>32.263773</td>\n",
       "      <td>34.946917</td>\n",
       "    </tr>\n",
       "    <tr>\n",
       "      <th>2</th>\n",
       "      <td>12.0</td>\n",
       "      <td>0.500</td>\n",
       "      <td>32.136788</td>\n",
       "      <td>35.413207</td>\n",
       "      <td>31.603449</td>\n",
       "      <td>0.500</td>\n",
       "      <td>32.136788</td>\n",
       "      <td>35.413207</td>\n",
       "    </tr>\n",
       "    <tr>\n",
       "      <th>3</th>\n",
       "      <td>12.0</td>\n",
       "      <td>0.500</td>\n",
       "      <td>32.416155</td>\n",
       "      <td>35.351035</td>\n",
       "      <td>31.933611</td>\n",
       "      <td>0.500</td>\n",
       "      <td>32.416155</td>\n",
       "      <td>35.351035</td>\n",
       "    </tr>\n",
       "    <tr>\n",
       "      <th>4</th>\n",
       "      <td>12.0</td>\n",
       "      <td>0.500</td>\n",
       "      <td>32.111391</td>\n",
       "      <td>35.413207</td>\n",
       "      <td>31.578052</td>\n",
       "      <td>0.500</td>\n",
       "      <td>32.111391</td>\n",
       "      <td>35.413207</td>\n",
       "    </tr>\n",
       "    <tr>\n",
       "      <th>...</th>\n",
       "      <td>...</td>\n",
       "      <td>...</td>\n",
       "      <td>...</td>\n",
       "      <td>...</td>\n",
       "      <td>...</td>\n",
       "      <td>...</td>\n",
       "      <td>...</td>\n",
       "      <td>...</td>\n",
       "    </tr>\n",
       "    <tr>\n",
       "      <th>10295</th>\n",
       "      <td>6.0</td>\n",
       "      <td>0.125</td>\n",
       "      <td>31.882817</td>\n",
       "      <td>59.473766</td>\n",
       "      <td>40.543212</td>\n",
       "      <td>0.125</td>\n",
       "      <td>31.882817</td>\n",
       "      <td>59.473766</td>\n",
       "    </tr>\n",
       "    <tr>\n",
       "      <th>10296</th>\n",
       "      <td>6.0</td>\n",
       "      <td>0.125</td>\n",
       "      <td>31.527258</td>\n",
       "      <td>59.411594</td>\n",
       "      <td>40.847977</td>\n",
       "      <td>0.125</td>\n",
       "      <td>31.527258</td>\n",
       "      <td>59.411594</td>\n",
       "    </tr>\n",
       "    <tr>\n",
       "      <th>10297</th>\n",
       "      <td>6.0</td>\n",
       "      <td>0.125</td>\n",
       "      <td>31.552655</td>\n",
       "      <td>59.411594</td>\n",
       "      <td>40.746389</td>\n",
       "      <td>0.125</td>\n",
       "      <td>31.552655</td>\n",
       "      <td>59.411594</td>\n",
       "    </tr>\n",
       "    <tr>\n",
       "      <th>10298</th>\n",
       "      <td>6.0</td>\n",
       "      <td>0.125</td>\n",
       "      <td>31.425670</td>\n",
       "      <td>59.038562</td>\n",
       "      <td>40.720992</td>\n",
       "      <td>0.125</td>\n",
       "      <td>31.425670</td>\n",
       "      <td>59.038562</td>\n",
       "    </tr>\n",
       "    <tr>\n",
       "      <th>10299</th>\n",
       "      <td>6.0</td>\n",
       "      <td>0.125</td>\n",
       "      <td>31.400273</td>\n",
       "      <td>59.100734</td>\n",
       "      <td>40.924168</td>\n",
       "      <td>0.125</td>\n",
       "      <td>31.400273</td>\n",
       "      <td>59.100734</td>\n",
       "    </tr>\n",
       "  </tbody>\n",
       "</table>\n",
       "<p>10300 rows × 8 columns</p>\n",
       "</div>"
      ],
      "text/plain": [
       "       Current     Fc         Tc         Tr         Tj  Fc_Faulty  Tc_Faulty  \\\n",
       "0         12.0  0.500  32.111391  35.444293  31.247891      0.500  32.111391   \n",
       "1         12.0  0.500  32.263773  34.946917  31.552655      0.500  32.263773   \n",
       "2         12.0  0.500  32.136788  35.413207  31.603449      0.500  32.136788   \n",
       "3         12.0  0.500  32.416155  35.351035  31.933611      0.500  32.416155   \n",
       "4         12.0  0.500  32.111391  35.413207  31.578052      0.500  32.111391   \n",
       "...        ...    ...        ...        ...        ...        ...        ...   \n",
       "10295      6.0  0.125  31.882817  59.473766  40.543212      0.125  31.882817   \n",
       "10296      6.0  0.125  31.527258  59.411594  40.847977      0.125  31.527258   \n",
       "10297      6.0  0.125  31.552655  59.411594  40.746389      0.125  31.552655   \n",
       "10298      6.0  0.125  31.425670  59.038562  40.720992      0.125  31.425670   \n",
       "10299      6.0  0.125  31.400273  59.100734  40.924168      0.125  31.400273   \n",
       "\n",
       "       Tr_Faulty  \n",
       "0      35.444293  \n",
       "1      34.946917  \n",
       "2      35.413207  \n",
       "3      35.351035  \n",
       "4      35.413207  \n",
       "...          ...  \n",
       "10295  59.473766  \n",
       "10296  59.411594  \n",
       "10297  59.411594  \n",
       "10298  59.038562  \n",
       "10299  59.100734  \n",
       "\n",
       "[10300 rows x 8 columns]"
      ]
     },
     "execution_count": 3,
     "metadata": {},
     "output_type": "execute_result"
    }
   ],
   "source": [
    "df"
   ]
  },
  {
   "cell_type": "code",
   "execution_count": 4,
   "id": "8ce67709",
   "metadata": {},
   "outputs": [
    {
     "name": "stdout",
     "output_type": "stream",
     "text": [
      "<class 'pandas.core.frame.DataFrame'>\n",
      "RangeIndex: 10300 entries, 0 to 10299\n",
      "Data columns (total 8 columns):\n",
      " #   Column     Non-Null Count  Dtype  \n",
      "---  ------     --------------  -----  \n",
      " 0   Current    10300 non-null  float64\n",
      " 1   Fc         10300 non-null  float64\n",
      " 2   Tc         10300 non-null  float64\n",
      " 3   Tr         10300 non-null  float64\n",
      " 4   Tj         10300 non-null  float64\n",
      " 5   Fc_Faulty  10300 non-null  float64\n",
      " 6   Tc_Faulty  10300 non-null  float64\n",
      " 7   Tr_Faulty  10300 non-null  float64\n",
      "dtypes: float64(8)\n",
      "memory usage: 643.9 KB\n"
     ]
    }
   ],
   "source": [
    "df.info()"
   ]
  },
  {
   "cell_type": "code",
   "execution_count": 5,
   "id": "037adc97",
   "metadata": {},
   "outputs": [],
   "source": [
    "df_input=df[['Fc','Tr']]"
   ]
  },
  {
   "cell_type": "code",
   "execution_count": 6,
   "id": "7e7e561c",
   "metadata": {},
   "outputs": [
    {
     "data": {
      "text/html": [
       "<div>\n",
       "<style scoped>\n",
       "    .dataframe tbody tr th:only-of-type {\n",
       "        vertical-align: middle;\n",
       "    }\n",
       "\n",
       "    .dataframe tbody tr th {\n",
       "        vertical-align: top;\n",
       "    }\n",
       "\n",
       "    .dataframe thead th {\n",
       "        text-align: right;\n",
       "    }\n",
       "</style>\n",
       "<table border=\"1\" class=\"dataframe\">\n",
       "  <thead>\n",
       "    <tr style=\"text-align: right;\">\n",
       "      <th></th>\n",
       "      <th>Fc</th>\n",
       "      <th>Tr</th>\n",
       "    </tr>\n",
       "  </thead>\n",
       "  <tbody>\n",
       "    <tr>\n",
       "      <th>0</th>\n",
       "      <td>0.500</td>\n",
       "      <td>35.444293</td>\n",
       "    </tr>\n",
       "    <tr>\n",
       "      <th>1</th>\n",
       "      <td>0.500</td>\n",
       "      <td>34.946917</td>\n",
       "    </tr>\n",
       "    <tr>\n",
       "      <th>2</th>\n",
       "      <td>0.500</td>\n",
       "      <td>35.413207</td>\n",
       "    </tr>\n",
       "    <tr>\n",
       "      <th>3</th>\n",
       "      <td>0.500</td>\n",
       "      <td>35.351035</td>\n",
       "    </tr>\n",
       "    <tr>\n",
       "      <th>4</th>\n",
       "      <td>0.500</td>\n",
       "      <td>35.413207</td>\n",
       "    </tr>\n",
       "    <tr>\n",
       "      <th>...</th>\n",
       "      <td>...</td>\n",
       "      <td>...</td>\n",
       "    </tr>\n",
       "    <tr>\n",
       "      <th>10295</th>\n",
       "      <td>0.125</td>\n",
       "      <td>59.473766</td>\n",
       "    </tr>\n",
       "    <tr>\n",
       "      <th>10296</th>\n",
       "      <td>0.125</td>\n",
       "      <td>59.411594</td>\n",
       "    </tr>\n",
       "    <tr>\n",
       "      <th>10297</th>\n",
       "      <td>0.125</td>\n",
       "      <td>59.411594</td>\n",
       "    </tr>\n",
       "    <tr>\n",
       "      <th>10298</th>\n",
       "      <td>0.125</td>\n",
       "      <td>59.038562</td>\n",
       "    </tr>\n",
       "    <tr>\n",
       "      <th>10299</th>\n",
       "      <td>0.125</td>\n",
       "      <td>59.100734</td>\n",
       "    </tr>\n",
       "  </tbody>\n",
       "</table>\n",
       "<p>10300 rows × 2 columns</p>\n",
       "</div>"
      ],
      "text/plain": [
       "          Fc         Tr\n",
       "0      0.500  35.444293\n",
       "1      0.500  34.946917\n",
       "2      0.500  35.413207\n",
       "3      0.500  35.351035\n",
       "4      0.500  35.413207\n",
       "...      ...        ...\n",
       "10295  0.125  59.473766\n",
       "10296  0.125  59.411594\n",
       "10297  0.125  59.411594\n",
       "10298  0.125  59.038562\n",
       "10299  0.125  59.100734\n",
       "\n",
       "[10300 rows x 2 columns]"
      ]
     },
     "execution_count": 6,
     "metadata": {},
     "output_type": "execute_result"
    }
   ],
   "source": [
    "\n",
    "df_input"
   ]
  },
  {
   "cell_type": "code",
   "execution_count": 7,
   "id": "913cd05e",
   "metadata": {},
   "outputs": [
    {
     "data": {
      "text/html": [
       "<div>\n",
       "<style scoped>\n",
       "    .dataframe tbody tr th:only-of-type {\n",
       "        vertical-align: middle;\n",
       "    }\n",
       "\n",
       "    .dataframe tbody tr th {\n",
       "        vertical-align: top;\n",
       "    }\n",
       "\n",
       "    .dataframe thead th {\n",
       "        text-align: right;\n",
       "    }\n",
       "</style>\n",
       "<table border=\"1\" class=\"dataframe\">\n",
       "  <thead>\n",
       "    <tr style=\"text-align: right;\">\n",
       "      <th></th>\n",
       "      <th>Fc</th>\n",
       "      <th>Tr</th>\n",
       "    </tr>\n",
       "  </thead>\n",
       "  <tbody>\n",
       "    <tr>\n",
       "      <th>count</th>\n",
       "      <td>10300.000000</td>\n",
       "      <td>10300.000000</td>\n",
       "    </tr>\n",
       "    <tr>\n",
       "      <th>mean</th>\n",
       "      <td>0.438733</td>\n",
       "      <td>62.052014</td>\n",
       "    </tr>\n",
       "    <tr>\n",
       "      <th>std</th>\n",
       "      <td>0.244404</td>\n",
       "      <td>11.043789</td>\n",
       "    </tr>\n",
       "    <tr>\n",
       "      <th>min</th>\n",
       "      <td>0.125000</td>\n",
       "      <td>34.946917</td>\n",
       "    </tr>\n",
       "    <tr>\n",
       "      <th>25%</th>\n",
       "      <td>0.125000</td>\n",
       "      <td>55.743447</td>\n",
       "    </tr>\n",
       "    <tr>\n",
       "      <th>50%</th>\n",
       "      <td>0.375000</td>\n",
       "      <td>63.856891</td>\n",
       "    </tr>\n",
       "    <tr>\n",
       "      <th>75%</th>\n",
       "      <td>0.611769</td>\n",
       "      <td>68.892822</td>\n",
       "    </tr>\n",
       "    <tr>\n",
       "      <th>max</th>\n",
       "      <td>0.998277</td>\n",
       "      <td>90.839534</td>\n",
       "    </tr>\n",
       "  </tbody>\n",
       "</table>\n",
       "</div>"
      ],
      "text/plain": [
       "                 Fc            Tr\n",
       "count  10300.000000  10300.000000\n",
       "mean       0.438733     62.052014\n",
       "std        0.244404     11.043789\n",
       "min        0.125000     34.946917\n",
       "25%        0.125000     55.743447\n",
       "50%        0.375000     63.856891\n",
       "75%        0.611769     68.892822\n",
       "max        0.998277     90.839534"
      ]
     },
     "execution_count": 7,
     "metadata": {},
     "output_type": "execute_result"
    }
   ],
   "source": [
    "df_input.describe()"
   ]
  },
  {
   "cell_type": "code",
   "execution_count": 8,
   "id": "69a91ed9",
   "metadata": {},
   "outputs": [],
   "source": [
    "scaler = MinMaxScaler()\n",
    "data_scaled = scaler.fit_transform(df_input)"
   ]
  },
  {
   "cell_type": "code",
   "execution_count": 9,
   "id": "b4d91412",
   "metadata": {},
   "outputs": [
    {
     "data": {
      "text/plain": [
       "array([[0.42941701, 0.00889878],\n",
       "       [0.42941701, 0.        ],\n",
       "       [0.42941701, 0.0083426 ],\n",
       "       ...,\n",
       "       [0.        , 0.43770856],\n",
       "       [0.        , 0.43103448],\n",
       "       [0.        , 0.43214683]])"
      ]
     },
     "execution_count": 9,
     "metadata": {},
     "output_type": "execute_result"
    }
   ],
   "source": [
    "\n",
    "data_scaled"
   ]
  },
  {
   "cell_type": "code",
   "execution_count": 10,
   "id": "0e11f748",
   "metadata": {},
   "outputs": [],
   "source": [
    "features=data_scaled\n",
    "target=data_scaled[:,1]"
   ]
  },
  {
   "cell_type": "code",
   "execution_count": 11,
   "id": "0932b924",
   "metadata": {},
   "outputs": [
    {
     "data": {
      "text/plain": [
       "(array([[[0.42941701, 0.00889878],\n",
       "         [0.42941701, 0.        ]]]),\n",
       " array([0.0083426]))"
      ]
     },
     "execution_count": 11,
     "metadata": {},
     "output_type": "execute_result"
    }
   ],
   "source": [
    "TimeseriesGenerator(features, target, length=2, sampling_rate=1, batch_size=1)[0]"
   ]
  },
  {
   "cell_type": "code",
   "execution_count": 14,
   "id": "01876959",
   "metadata": {},
   "outputs": [],
   "source": [
    "x_train, x_test, y_train, y_test = train_test_split(features, target, test_size=0.30, random_state=123, shuffle = False)"
   ]
  },
  {
   "cell_type": "code",
   "execution_count": 17,
   "id": "9210ec0e",
   "metadata": {},
   "outputs": [
    {
     "data": {
      "text/plain": [
       "(7210, 2)"
      ]
     },
     "execution_count": 17,
     "metadata": {},
     "output_type": "execute_result"
    }
   ],
   "source": [
    "x_train.shape"
   ]
  },
  {
   "cell_type": "code",
   "execution_count": 18,
   "id": "a54fc194",
   "metadata": {},
   "outputs": [
    {
     "data": {
      "text/plain": [
       "(3090, 2)"
      ]
     },
     "execution_count": 18,
     "metadata": {},
     "output_type": "execute_result"
    }
   ],
   "source": [
    "x_test.shape"
   ]
  },
  {
   "cell_type": "code",
   "execution_count": 19,
   "id": "663d9773",
   "metadata": {},
   "outputs": [],
   "source": [
    "win_length=200\n",
    "batch_size=32\n",
    "num_features=2\n",
    "train_generator = TimeseriesGenerator(x_train, y_train, length=win_length, sampling_rate=1, batch_size=batch_size)\n",
    "test_generator = TimeseriesGenerator(x_test, y_test, length=win_length, sampling_rate=1, batch_size=batch_size)"
   ]
  },
  {
   "cell_type": "code",
   "execution_count": 20,
   "id": "7bb9ad96",
   "metadata": {},
   "outputs": [
    {
     "data": {
      "text/plain": [
       "(array([[[0.42941701, 0.00889878],\n",
       "         [0.42941701, 0.        ],\n",
       "         [0.42941701, 0.0083426 ],\n",
       "         ...,\n",
       "         [0.42941701, 0.0083426 ],\n",
       "         [0.42941701, 0.01779755],\n",
       "         [0.42941701, 0.01612903]],\n",
       " \n",
       "        [[0.42941701, 0.        ],\n",
       "         [0.42941701, 0.0083426 ],\n",
       "         [0.42941701, 0.00723026],\n",
       "         ...,\n",
       "         [0.42941701, 0.01779755],\n",
       "         [0.42941701, 0.01612903],\n",
       "         [0.42941701, 0.02057842]],\n",
       " \n",
       "        [[0.42941701, 0.0083426 ],\n",
       "         [0.42941701, 0.00723026],\n",
       "         [0.42941701, 0.0083426 ],\n",
       "         ...,\n",
       "         [0.42941701, 0.01612903],\n",
       "         [0.42941701, 0.02057842],\n",
       "         [0.42941701, 0.01724138]],\n",
       " \n",
       "        ...,\n",
       " \n",
       "        [[0.42941701, 0.01501669],\n",
       "         [0.42941701, 0.0083426 ],\n",
       "         [0.42941701, 0.01223582],\n",
       "         ...,\n",
       "         [0.42941701, 0.01835373],\n",
       "         [0.42941701, 0.02614016],\n",
       "         [0.42941701, 0.02502781]],\n",
       " \n",
       "        [[0.42941701, 0.0083426 ],\n",
       "         [0.42941701, 0.01223582],\n",
       "         [0.42941701, 0.00333704],\n",
       "         ...,\n",
       "         [0.42941701, 0.02614016],\n",
       "         [0.42941701, 0.02502781],\n",
       "         [0.42941701, 0.0272525 ]],\n",
       " \n",
       "        [[0.42941701, 0.01223582],\n",
       "         [0.42941701, 0.00333704],\n",
       "         [0.42941701, 0.00333704],\n",
       "         ...,\n",
       "         [0.42941701, 0.02502781],\n",
       "         [0.42941701, 0.0272525 ],\n",
       "         [0.42941701, 0.03003337]]]),\n",
       " array([0.02057842, 0.01724138, 0.02002225, 0.01334816, 0.02391546,\n",
       "        0.01779755, 0.02057842, 0.01946607, 0.02002225, 0.02057842,\n",
       "        0.02391546, 0.00278087, 0.02113459, 0.02502781, 0.02002225,\n",
       "        0.01835373, 0.02391546, 0.02502781, 0.01835373, 0.02057842,\n",
       "        0.02391546, 0.02391546, 0.02113459, 0.02836485, 0.02780868,\n",
       "        0.02836485, 0.01835373, 0.02614016, 0.02502781, 0.0272525 ,\n",
       "        0.03003337, 0.02280311]))"
      ]
     },
     "execution_count": 20,
     "metadata": {},
     "output_type": "execute_result"
    }
   ],
   "source": [
    "train_generator[0]"
   ]
  },
  {
   "cell_type": "code",
   "execution_count": 21,
   "id": "f876c247",
   "metadata": {},
   "outputs": [],
   "source": [
    "model = tf.keras.Sequential()\n",
    "model.add(tf.keras.layers.LSTM(128, input_shape= (win_length, num_features), return_sequences=True))\n",
    "model.add(tf.keras.layers.LeakyReLU(alpha=0.5)) \n",
    "model.add(tf.keras.layers.LSTM(128, return_sequences=True))\n",
    "model.add(tf.keras.layers.LeakyReLU(alpha=0.5)) \n",
    "model.add(tf.keras.layers.Dropout(0.3)) \n",
    "model.add(tf.keras.layers.LSTM(64, return_sequences=False))\n",
    "model.add(tf.keras.layers.Dropout(0.3)) \n",
    "model.add(tf.keras.layers.Dense(1))"
   ]
  },
  {
   "cell_type": "code",
   "execution_count": 22,
   "id": "d3001de5",
   "metadata": {},
   "outputs": [
    {
     "name": "stdout",
     "output_type": "stream",
     "text": [
      "Model: \"sequential\"\n",
      "_________________________________________________________________\n",
      " Layer (type)                Output Shape              Param #   \n",
      "=================================================================\n",
      " lstm (LSTM)                 (None, 200, 128)          67072     \n",
      "                                                                 \n",
      " leaky_re_lu (LeakyReLU)     (None, 200, 128)          0         \n",
      "                                                                 \n",
      " lstm_1 (LSTM)               (None, 200, 128)          131584    \n",
      "                                                                 \n",
      " leaky_re_lu_1 (LeakyReLU)   (None, 200, 128)          0         \n",
      "                                                                 \n",
      " dropout (Dropout)           (None, 200, 128)          0         \n",
      "                                                                 \n",
      " lstm_2 (LSTM)               (None, 64)                49408     \n",
      "                                                                 \n",
      " dropout_1 (Dropout)         (None, 64)                0         \n",
      "                                                                 \n",
      " dense (Dense)               (None, 1)                 65        \n",
      "                                                                 \n",
      "=================================================================\n",
      "Total params: 248,129\n",
      "Trainable params: 248,129\n",
      "Non-trainable params: 0\n",
      "_________________________________________________________________\n"
     ]
    }
   ],
   "source": [
    "\n",
    "model.summary()"
   ]
  },
  {
   "cell_type": "code",
   "execution_count": 22,
   "id": "f5808082",
   "metadata": {},
   "outputs": [
    {
     "name": "stdout",
     "output_type": "stream",
     "text": [
      "Epoch 1/50\n",
      "220/220 [==============================] - 88s 371ms/step - loss: 0.0031 - mean_absolute_error: 0.0430 - val_loss: 0.0975 - val_mean_absolute_error: 0.3074\n",
      "Epoch 2/50\n",
      "220/220 [==============================] - 79s 360ms/step - loss: 0.0092 - mean_absolute_error: 0.0583 - val_loss: 0.1039 - val_mean_absolute_error: 0.3151\n",
      "Epoch 3/50\n",
      "220/220 [==============================] - 78s 357ms/step - loss: 0.0119 - mean_absolute_error: 0.0639 - val_loss: 0.1181 - val_mean_absolute_error: 0.3342\n"
     ]
    }
   ],
   "source": [
    "\n",
    "early_stopping = tf.keras.callbacks.EarlyStopping(monitor='val_loss',\n",
    "                                                    patience=2,\n",
    "                                                    mode='min')\n",
    "\n",
    "model.compile(loss=tf.losses.MeanSquaredError(),\n",
    "              optimizer=tf.optimizers.Adam(),\n",
    "              metrics=[tf.metrics.MeanAbsoluteError()])\n",
    "\n",
    "history = model.fit(train_generator, epochs=50,\n",
    "                    validation_data=test_generator,\n",
    "                    shuffle=False,\n",
    "                    callbacks=[early_stopping])"
   ]
  },
  {
   "cell_type": "code",
   "execution_count": 37,
   "id": "627ad2b6",
   "metadata": {},
   "outputs": [
    {
     "data": {
      "text/plain": [
       "[0.1181274801492691, 0.33416062593460083]"
      ]
     },
     "execution_count": 37,
     "metadata": {},
     "output_type": "execute_result"
    }
   ],
   "source": [
    "model.evaluate(test_generator, verbose=0) "
   ]
  },
  {
   "cell_type": "code",
   "execution_count": 24,
   "id": "1ea0021f",
   "metadata": {},
   "outputs": [
    {
     "data": {
      "text/plain": [
       "array([[0.9262025 ],\n",
       "       [0.9262174 ],\n",
       "       [0.92622566],\n",
       "       ...,\n",
       "       [0.9289591 ],\n",
       "       [0.9288176 ],\n",
       "       [0.92864144]], dtype=float32)"
      ]
     },
     "execution_count": 24,
     "metadata": {},
     "output_type": "execute_result"
    }
   ],
   "source": [
    "# additional\n",
    "\n",
    "#model.evaluate(test_generator, verbose=0)\n",
    "#predictions=model.predict(train_generator)\n",
    "#predictions.shape[0]\n",
    "predictions"
   ]
  },
  {
   "cell_type": "code",
   "execution_count": 36,
   "id": "0709ef4f",
   "metadata": {},
   "outputs": [],
   "source": [
    "# x_train\n",
    "# x_train[:,1:][win_length:]\n",
    "# df_pred=pd.concat([pd.DataFrame(predictions), pd.DataFrame(x_train[:,1:][win_length:])],axis=1)\n",
    "# df_pred\n",
    "# rev_trans=scaler.inverse_transform(df_pred)\n",
    "# df_final['App_Pred']=rev_trans[:,1]\n",
    "#df_pred"
   ]
  },
  {
   "cell_type": "code",
   "execution_count": 39,
   "id": "7df8af14",
   "metadata": {},
   "outputs": [
    {
     "name": "stdout",
     "output_type": "stream",
     "text": [
      "91/91 [==============================] - 10s 106ms/step\n"
     ]
    }
   ],
   "source": [
    "\n",
    "predictions=model.predict(test_generator)"
   ]
  },
  {
   "cell_type": "code",
   "execution_count": 40,
   "id": "32016630",
   "metadata": {},
   "outputs": [
    {
     "data": {
      "text/plain": [
       "2890"
      ]
     },
     "execution_count": 40,
     "metadata": {},
     "output_type": "execute_result"
    }
   ],
   "source": [
    "predictions.shape[0]"
   ]
  },
  {
   "cell_type": "code",
   "execution_count": 41,
   "id": "fb79a707",
   "metadata": {},
   "outputs": [
    {
     "data": {
      "text/plain": [
       "array([0.98609566, 0.96774194, 0.98053393, ..., 0.43770856, 0.43103448,\n",
       "       0.43214683])"
      ]
     },
     "execution_count": 41,
     "metadata": {},
     "output_type": "execute_result"
    }
   ],
   "source": [
    "\n",
    "y_test"
   ]
  },
  {
   "cell_type": "code",
   "execution_count": 42,
   "id": "b09f20f9",
   "metadata": {},
   "outputs": [
    {
     "data": {
      "text/plain": [
       "array([[0.62506092, 0.98609566],\n",
       "       [0.62402899, 0.96774194],\n",
       "       [0.62299863, 0.98053393],\n",
       "       ...,\n",
       "       [0.        , 0.43770856],\n",
       "       [0.        , 0.43103448],\n",
       "       [0.        , 0.43214683]])"
      ]
     },
     "execution_count": 42,
     "metadata": {},
     "output_type": "execute_result"
    }
   ],
   "source": [
    "\n",
    "x_test"
   ]
  },
  {
   "cell_type": "code",
   "execution_count": 43,
   "id": "6520b704",
   "metadata": {},
   "outputs": [
    {
     "data": {
      "text/plain": [
       "array([[0.86373749],\n",
       "       [0.8759733 ],\n",
       "       [0.8759733 ],\n",
       "       ...,\n",
       "       [0.43770856],\n",
       "       [0.43103448],\n",
       "       [0.43214683]])"
      ]
     },
     "execution_count": 43,
     "metadata": {},
     "output_type": "execute_result"
    }
   ],
   "source": [
    "x_test[:,1:][win_length:]"
   ]
  },
  {
   "cell_type": "code",
   "execution_count": 44,
   "id": "aaef12ce",
   "metadata": {},
   "outputs": [],
   "source": [
    "\n",
    "df_pred=pd.concat([pd.DataFrame(predictions), pd.DataFrame(x_test[:,1:][win_length:])],axis=1)"
   ]
  },
  {
   "cell_type": "code",
   "execution_count": 45,
   "id": "2572b33f",
   "metadata": {},
   "outputs": [
    {
     "data": {
      "text/html": [
       "<div>\n",
       "<style scoped>\n",
       "    .dataframe tbody tr th:only-of-type {\n",
       "        vertical-align: middle;\n",
       "    }\n",
       "\n",
       "    .dataframe tbody tr th {\n",
       "        vertical-align: top;\n",
       "    }\n",
       "\n",
       "    .dataframe thead th {\n",
       "        text-align: right;\n",
       "    }\n",
       "</style>\n",
       "<table border=\"1\" class=\"dataframe\">\n",
       "  <thead>\n",
       "    <tr style=\"text-align: right;\">\n",
       "      <th></th>\n",
       "      <th>0</th>\n",
       "      <th>0</th>\n",
       "    </tr>\n",
       "  </thead>\n",
       "  <tbody>\n",
       "    <tr>\n",
       "      <th>0</th>\n",
       "      <td>0.887573</td>\n",
       "      <td>0.863737</td>\n",
       "    </tr>\n",
       "    <tr>\n",
       "      <th>1</th>\n",
       "      <td>0.887523</td>\n",
       "      <td>0.875973</td>\n",
       "    </tr>\n",
       "    <tr>\n",
       "      <th>2</th>\n",
       "      <td>0.887496</td>\n",
       "      <td>0.875973</td>\n",
       "    </tr>\n",
       "    <tr>\n",
       "      <th>3</th>\n",
       "      <td>0.887488</td>\n",
       "      <td>0.869299</td>\n",
       "    </tr>\n",
       "    <tr>\n",
       "      <th>4</th>\n",
       "      <td>0.887502</td>\n",
       "      <td>0.864850</td>\n",
       "    </tr>\n",
       "    <tr>\n",
       "      <th>...</th>\n",
       "      <td>...</td>\n",
       "      <td>...</td>\n",
       "    </tr>\n",
       "    <tr>\n",
       "      <th>2885</th>\n",
       "      <td>0.847687</td>\n",
       "      <td>0.438821</td>\n",
       "    </tr>\n",
       "    <tr>\n",
       "      <th>2886</th>\n",
       "      <td>0.847650</td>\n",
       "      <td>0.437709</td>\n",
       "    </tr>\n",
       "    <tr>\n",
       "      <th>2887</th>\n",
       "      <td>0.847602</td>\n",
       "      <td>0.437709</td>\n",
       "    </tr>\n",
       "    <tr>\n",
       "      <th>2888</th>\n",
       "      <td>0.847560</td>\n",
       "      <td>0.431034</td>\n",
       "    </tr>\n",
       "    <tr>\n",
       "      <th>2889</th>\n",
       "      <td>0.847566</td>\n",
       "      <td>0.432147</td>\n",
       "    </tr>\n",
       "  </tbody>\n",
       "</table>\n",
       "<p>2890 rows × 2 columns</p>\n",
       "</div>"
      ],
      "text/plain": [
       "             0         0\n",
       "0     0.887573  0.863737\n",
       "1     0.887523  0.875973\n",
       "2     0.887496  0.875973\n",
       "3     0.887488  0.869299\n",
       "4     0.887502  0.864850\n",
       "...        ...       ...\n",
       "2885  0.847687  0.438821\n",
       "2886  0.847650  0.437709\n",
       "2887  0.847602  0.437709\n",
       "2888  0.847560  0.431034\n",
       "2889  0.847566  0.432147\n",
       "\n",
       "[2890 rows x 2 columns]"
      ]
     },
     "execution_count": 45,
     "metadata": {},
     "output_type": "execute_result"
    }
   ],
   "source": [
    "\n",
    "df_pred"
   ]
  },
  {
   "cell_type": "code",
   "execution_count": 46,
   "id": "7693be4c",
   "metadata": {},
   "outputs": [],
   "source": [
    "rev_trans=scaler.inverse_transform(df_pred)"
   ]
  },
  {
   "cell_type": "code",
   "execution_count": 47,
   "id": "d16c0d31",
   "metadata": {},
   "outputs": [
    {
     "data": {
      "text/plain": [
       "array([[ 0.90009684, 83.22346514],\n",
       "       [ 0.90005333, 83.907357  ],\n",
       "       [ 0.90002954, 83.907357  ],\n",
       "       ...,\n",
       "       [ 0.86519109, 59.41159413],\n",
       "       [ 0.86515445, 59.03856221],\n",
       "       [ 0.8651595 , 59.1007342 ]])"
      ]
     },
     "execution_count": 47,
     "metadata": {},
     "output_type": "execute_result"
    }
   ],
   "source": [
    "\n",
    "rev_trans"
   ]
  },
  {
   "cell_type": "code",
   "execution_count": 48,
   "id": "bc65a580",
   "metadata": {},
   "outputs": [],
   "source": [
    "df_final=df_input[predictions.shape[0]*-1:]"
   ]
  },
  {
   "cell_type": "code",
   "execution_count": 49,
   "id": "0672db28",
   "metadata": {},
   "outputs": [
    {
     "data": {
      "text/plain": [
       "Fc    2890\n",
       "Tr    2890\n",
       "dtype: int64"
      ]
     },
     "execution_count": 49,
     "metadata": {},
     "output_type": "execute_result"
    }
   ],
   "source": [
    "df_final.count()"
   ]
  },
  {
   "cell_type": "code",
   "execution_count": 50,
   "id": "c39874c3",
   "metadata": {},
   "outputs": [
    {
     "name": "stderr",
     "output_type": "stream",
     "text": [
      "C:\\Users\\PREETHAM\\AppData\\Local\\Temp\\ipykernel_4668\\2540396308.py:1: SettingWithCopyWarning: \n",
      "A value is trying to be set on a copy of a slice from a DataFrame.\n",
      "Try using .loc[row_indexer,col_indexer] = value instead\n",
      "\n",
      "See the caveats in the documentation: https://pandas.pydata.org/pandas-docs/stable/user_guide/indexing.html#returning-a-view-versus-a-copy\n",
      "  df_final['App_Pred']=rev_trans[:,1]\n"
     ]
    }
   ],
   "source": [
    "df_final['App_Pred']=rev_trans[:,1]"
   ]
  },
  {
   "cell_type": "code",
   "execution_count": 51,
   "id": "2bac9d56",
   "metadata": {},
   "outputs": [
    {
     "data": {
      "text/html": [
       "<div>\n",
       "<style scoped>\n",
       "    .dataframe tbody tr th:only-of-type {\n",
       "        vertical-align: middle;\n",
       "    }\n",
       "\n",
       "    .dataframe tbody tr th {\n",
       "        vertical-align: top;\n",
       "    }\n",
       "\n",
       "    .dataframe thead th {\n",
       "        text-align: right;\n",
       "    }\n",
       "</style>\n",
       "<table border=\"1\" class=\"dataframe\">\n",
       "  <thead>\n",
       "    <tr style=\"text-align: right;\">\n",
       "      <th></th>\n",
       "      <th>Fc</th>\n",
       "      <th>Tr</th>\n",
       "      <th>App_Pred</th>\n",
       "    </tr>\n",
       "  </thead>\n",
       "  <tbody>\n",
       "    <tr>\n",
       "      <th>7410</th>\n",
       "      <td>0.375</td>\n",
       "      <td>83.223465</td>\n",
       "      <td>83.223465</td>\n",
       "    </tr>\n",
       "    <tr>\n",
       "      <th>7411</th>\n",
       "      <td>0.375</td>\n",
       "      <td>83.907357</td>\n",
       "      <td>83.907357</td>\n",
       "    </tr>\n",
       "    <tr>\n",
       "      <th>7412</th>\n",
       "      <td>0.375</td>\n",
       "      <td>83.907357</td>\n",
       "      <td>83.907357</td>\n",
       "    </tr>\n",
       "    <tr>\n",
       "      <th>7413</th>\n",
       "      <td>0.375</td>\n",
       "      <td>83.534325</td>\n",
       "      <td>83.534325</td>\n",
       "    </tr>\n",
       "    <tr>\n",
       "      <th>7414</th>\n",
       "      <td>0.375</td>\n",
       "      <td>83.285637</td>\n",
       "      <td>83.285637</td>\n",
       "    </tr>\n",
       "    <tr>\n",
       "      <th>...</th>\n",
       "      <td>...</td>\n",
       "      <td>...</td>\n",
       "      <td>...</td>\n",
       "    </tr>\n",
       "    <tr>\n",
       "      <th>10295</th>\n",
       "      <td>0.125</td>\n",
       "      <td>59.473766</td>\n",
       "      <td>59.473766</td>\n",
       "    </tr>\n",
       "    <tr>\n",
       "      <th>10296</th>\n",
       "      <td>0.125</td>\n",
       "      <td>59.411594</td>\n",
       "      <td>59.411594</td>\n",
       "    </tr>\n",
       "    <tr>\n",
       "      <th>10297</th>\n",
       "      <td>0.125</td>\n",
       "      <td>59.411594</td>\n",
       "      <td>59.411594</td>\n",
       "    </tr>\n",
       "    <tr>\n",
       "      <th>10298</th>\n",
       "      <td>0.125</td>\n",
       "      <td>59.038562</td>\n",
       "      <td>59.038562</td>\n",
       "    </tr>\n",
       "    <tr>\n",
       "      <th>10299</th>\n",
       "      <td>0.125</td>\n",
       "      <td>59.100734</td>\n",
       "      <td>59.100734</td>\n",
       "    </tr>\n",
       "  </tbody>\n",
       "</table>\n",
       "<p>2890 rows × 3 columns</p>\n",
       "</div>"
      ],
      "text/plain": [
       "          Fc         Tr   App_Pred\n",
       "7410   0.375  83.223465  83.223465\n",
       "7411   0.375  83.907357  83.907357\n",
       "7412   0.375  83.907357  83.907357\n",
       "7413   0.375  83.534325  83.534325\n",
       "7414   0.375  83.285637  83.285637\n",
       "...      ...        ...        ...\n",
       "10295  0.125  59.473766  59.473766\n",
       "10296  0.125  59.411594  59.411594\n",
       "10297  0.125  59.411594  59.411594\n",
       "10298  0.125  59.038562  59.038562\n",
       "10299  0.125  59.100734  59.100734\n",
       "\n",
       "[2890 rows x 3 columns]"
      ]
     },
     "execution_count": 51,
     "metadata": {},
     "output_type": "execute_result"
    }
   ],
   "source": [
    "\n",
    "df_final"
   ]
  },
  {
   "cell_type": "code",
   "execution_count": 203,
   "id": "ddcbbb13",
   "metadata": {},
   "outputs": [
    {
     "data": {
      "text/plain": [
       "<Axes: >"
      ]
     },
     "execution_count": 203,
     "metadata": {},
     "output_type": "execute_result"
    },
    {
     "data": {
      "image/png": "[encoded data removed]",
      "text/plain": [
       "<Figure size 1000x800 with 1 Axes>"
      ]
     },
     "metadata": {},
     "output_type": "display_data"
    }
   ],
   "source": [
    "df_final[['Tr','App_Pred']].plot()"
   ]
  },
  {
   "cell_type": "code",
   "execution_count": 179,
   "id": "1ff2b79b",
   "metadata": {},
   "outputs": [
    {
     "name": "stdout",
     "output_type": "stream",
     "text": [
      "[array([[ 2.93706954e-02, -2.55821198e-02, -5.40796667e-02,\n",
      "         9.93647277e-02,  4.94287163e-02, -8.01499188e-03,\n",
      "        -1.05782457e-01,  1.49076194e-01,  1.46702886e-01,\n",
      "        -3.36452425e-02, -9.26269591e-03,  7.65553862e-02,\n",
      "         5.81281483e-02, -9.68537331e-02,  1.45083576e-01,\n",
      "        -1.47676319e-01, -5.87966815e-02,  1.23798937e-01,\n",
      "        -7.41938427e-02, -1.23982117e-01,  1.69993430e-01,\n",
      "         1.83953047e-02, -1.66836888e-01, -1.33072630e-01,\n",
      "         1.07957691e-01,  1.32719249e-01, -1.23394907e-01,\n",
      "         1.25378251e-01,  1.39730930e-01, -1.42960131e-01,\n",
      "        -1.07874043e-01, -1.05401419e-01, -7.40970671e-03,\n",
      "        -3.32040340e-02, -2.43360102e-02,  7.57684857e-02,\n",
      "         1.19036436e-03, -3.49442214e-02, -2.62492597e-02,\n",
      "        -8.34495798e-02,  9.93714929e-02, -1.53070807e-01,\n",
      "         6.44502938e-02, -1.05074331e-01, -8.68958980e-02,\n",
      "         8.60798359e-02,  1.31466687e-01,  2.34984010e-02,\n",
      "        -7.55314007e-02, -1.32688686e-01, -1.27048433e-01,\n",
      "         2.47426182e-02, -1.36140049e-01,  1.46214515e-02,\n",
      "        -4.94615138e-02, -1.18338466e-01,  5.26987910e-02,\n",
      "        -2.21735984e-02,  6.64939284e-02,  1.27991140e-02,\n",
      "        -1.03472844e-01, -9.15834457e-02, -5.18803969e-02,\n",
      "         1.18927181e-01, -9.78959203e-02, -1.32533297e-01,\n",
      "        -5.22522107e-02,  1.11323714e-01, -1.11805752e-01,\n",
      "        -1.26496390e-01,  5.88218123e-02,  3.69617045e-02,\n",
      "        -1.67042539e-01,  2.16407776e-02,  4.12900597e-02,\n",
      "        -1.25169531e-01,  4.31660861e-02,  1.21561468e-01,\n",
      "        -4.90130484e-02, -4.09725606e-02, -1.58139765e-01,\n",
      "        -4.14880812e-02, -1.25706643e-01,  1.01688504e-01,\n",
      "         5.51216453e-02, -1.71790719e-02,  6.10171854e-02,\n",
      "         5.40789217e-02,  1.23518109e-01,  1.89761668e-02,\n",
      "        -9.87416431e-02,  5.70860803e-02,  4.28014994e-03,\n",
      "        -8.52160007e-02,  6.59691542e-02,  1.30066544e-01,\n",
      "        -2.89122313e-02, -1.39283538e-01,  6.90732002e-02,\n",
      "        -1.30319297e-02, -1.70238450e-01, -1.65031120e-01,\n",
      "         1.71091259e-01,  6.53147101e-02,  1.47444665e-01,\n",
      "         3.97310406e-02,  1.36161327e-01,  6.18513525e-02,\n",
      "        -2.18704343e-02, -6.34403527e-03, -5.62879443e-02,\n",
      "        -6.30681515e-02,  1.33334845e-02, -2.74811387e-02,\n",
      "        -1.11637160e-01, -1.70261323e-01,  2.21565813e-02,\n",
      "        -1.20472722e-01,  8.64847898e-02,  4.43517715e-02,\n",
      "        -7.75908902e-02, -4.81398180e-02, -5.06615490e-02,\n",
      "        -7.62820691e-02,  9.04933810e-02, -1.18154466e-01,\n",
      "         1.04594171e-01,  2.25415975e-02, -1.99311227e-02,\n",
      "         1.09818101e-01,  1.81533098e-02, -1.59050867e-01,\n",
      "        -1.35402560e-01, -5.30912504e-02,  4.55386490e-02,\n",
      "         1.26881272e-01,  9.97234881e-03, -1.20804034e-01,\n",
      "         7.23649561e-02, -9.37558636e-02,  5.20418882e-02,\n",
      "         1.53673172e-01,  5.36993146e-04,  1.05053902e-01,\n",
      "        -9.88752693e-02, -1.42068416e-01, -1.61312029e-01,\n",
      "        -4.81747389e-02, -1.61041215e-01, -1.43796295e-01,\n",
      "         6.21595383e-02,  4.44462597e-02,  3.62170935e-02,\n",
      "        -1.48478240e-01, -5.10484427e-02,  1.51769608e-01,\n",
      "         1.65808678e-01, -1.10942602e-01, -5.51448837e-02,\n",
      "         2.74155587e-02, -6.84186146e-02,  8.47444236e-02,\n",
      "         1.34870261e-02,  1.17459774e-01,  1.33471161e-01,\n",
      "        -1.21022224e-01, -1.73035562e-02,  2.79967487e-02,\n",
      "         1.29619330e-01,  4.76904958e-02,  1.47464097e-01,\n",
      "        -1.70856073e-01,  1.44415081e-01,  2.58941650e-02,\n",
      "        -1.67137504e-01,  1.55676484e-01,  1.33375198e-01,\n",
      "         1.00513279e-01,  1.01798117e-01,  6.12335205e-02,\n",
      "         5.87879121e-02, -1.60474941e-01,  1.62858218e-01,\n",
      "         5.33235818e-02,  1.54417455e-01,  1.45604372e-01,\n",
      "        -7.43749738e-03,  9.88353491e-02, -9.37282369e-02,\n",
      "        -2.03747898e-02,  1.55154437e-01, -1.01011083e-01,\n",
      "        -9.42649841e-02, -7.64145479e-02,  1.24207884e-01,\n",
      "         1.62636697e-01, -4.02083248e-02,  7.29317516e-02,\n",
      "         1.10448927e-01,  1.63841218e-01],\n",
      "       [ 7.81050324e-02,  6.75990433e-02,  2.03394592e-02,\n",
      "         1.23638064e-02, -1.07929669e-01, -1.33876711e-01,\n",
      "         4.67590690e-02,  1.22527510e-01,  9.35776532e-02,\n",
      "         1.18517905e-01, -1.06145866e-01, -7.51438886e-02,\n",
      "        -1.15428530e-01, -1.01484880e-01, -8.47837701e-02,\n",
      "         9.44965482e-02, -4.96697351e-02, -5.45991212e-02,\n",
      "        -1.61441386e-01,  5.05269319e-02,  9.85655487e-02,\n",
      "        -1.33804977e-01,  1.16418898e-01,  9.24159288e-02,\n",
      "        -1.69714689e-02,  8.35147798e-02,  7.52986223e-02,\n",
      "        -1.40540212e-01, -1.49412081e-01,  1.33452564e-01,\n",
      "        -1.31166026e-01,  1.27783269e-01,  1.83193535e-02,\n",
      "        -8.64148512e-02,  8.38637352e-05, -2.63025016e-02,\n",
      "         1.10750854e-01,  1.39822960e-02, -3.04941833e-03,\n",
      "        -7.65633583e-03,  1.10679626e-01,  1.11251175e-02,\n",
      "         4.68504280e-02,  2.19156891e-02,  9.44996774e-02,\n",
      "         1.29311979e-01,  3.52244079e-03,  3.06659937e-02,\n",
      "        -3.92638147e-02, -2.38484442e-02,  1.21506959e-01,\n",
      "         2.97992826e-02,  5.92830181e-02, -7.54618794e-02,\n",
      "        -8.82432461e-02,  4.21038568e-02, -1.60081089e-01,\n",
      "        -1.41897082e-01,  7.28243589e-03,  3.46936882e-02,\n",
      "        -2.67658830e-02,  6.46314323e-02,  1.67964429e-01,\n",
      "        -1.68315992e-01,  1.30583078e-01,  2.08471864e-02,\n",
      "        -1.54788822e-01,  1.40322536e-01,  1.36137575e-01,\n",
      "         2.33217031e-02, -1.33029521e-02, -7.99733773e-02,\n",
      "        -6.17558435e-02, -3.58279049e-02, -6.13971055e-02,\n",
      "         1.34279400e-01,  6.57074749e-02, -5.94042242e-02,\n",
      "        -3.01898569e-02, -1.69419453e-01,  8.64669085e-02,\n",
      "         1.34653986e-01, -7.28701428e-02,  1.50579661e-01,\n",
      "        -1.45776361e-01, -2.88092643e-02,  3.85615081e-02,\n",
      "        -6.24492168e-02,  1.03389561e-01,  1.71810657e-01,\n",
      "         6.95756078e-03, -1.30477443e-01, -3.81554216e-02,\n",
      "        -2.84744650e-02,  1.38547331e-01, -2.57169753e-02,\n",
      "        -1.43001601e-01,  1.52592808e-01,  1.78930163e-03,\n",
      "        -6.80231899e-02,  4.80339825e-02, -1.13905989e-01,\n",
      "         1.24266952e-01,  9.47961211e-03, -1.96930617e-02,\n",
      "         3.07775587e-02,  7.93184936e-02,  9.10142362e-02,\n",
      "        -8.96456838e-02, -8.84153992e-02, -4.60171700e-03,\n",
      "         1.15160376e-01, -1.11924253e-01,  1.04061335e-01,\n",
      "        -9.10480469e-02,  1.27374709e-01, -1.35452941e-01,\n",
      "        -1.21498510e-01, -1.47849798e-01, -3.11042815e-02,\n",
      "        -7.68367350e-02,  9.84181166e-02,  9.29118097e-02,\n",
      "         1.15641266e-01,  7.90819824e-02,  1.19802058e-01,\n",
      "        -6.00878745e-02,  1.14520937e-01, -7.39724189e-02,\n",
      "        -1.57775447e-01, -1.04170524e-01,  3.11546177e-02,\n",
      "         1.12903804e-01,  3.99274677e-02,  1.27841860e-01,\n",
      "         5.99756837e-04,  1.20912790e-02, -8.17843601e-02,\n",
      "        -1.67322040e-01,  9.22533572e-02,  8.04528594e-04,\n",
      "         7.24287331e-02,  1.04330838e-01,  9.51422453e-02,\n",
      "        -5.63169718e-02,  4.19061631e-02,  1.68017775e-01,\n",
      "        -1.64913937e-01,  2.50688940e-02,  1.90367401e-02,\n",
      "         8.43152702e-02, -1.45239487e-01,  1.62804157e-01,\n",
      "         1.02961063e-01,  1.59310848e-02, -1.63439021e-01,\n",
      "         5.33330142e-02,  8.85826647e-02,  8.01470578e-02,\n",
      "        -1.31144673e-01, -1.36347607e-01, -6.57349378e-02,\n",
      "        -8.32651556e-03,  7.63234645e-02, -5.23295552e-02,\n",
      "         3.10359150e-02, -1.39354199e-01, -1.56206965e-01,\n",
      "        -4.09123451e-02,  1.95889920e-02,  1.10328674e-01,\n",
      "        -1.10966951e-01,  1.40723765e-01, -3.33650708e-02,\n",
      "        -1.63190216e-01,  8.45564604e-02, -1.44113019e-01,\n",
      "         9.24737751e-02,  1.35888159e-01,  7.26127774e-02,\n",
      "         1.05359852e-02, -6.14887178e-02,  7.71184564e-02,\n",
      "         9.70173180e-02,  2.84709781e-02,  1.18448853e-01,\n",
      "         5.72213531e-02,  1.68513268e-01,  1.61873281e-01,\n",
      "        -1.25045165e-01,  1.80558413e-02, -1.00707807e-01,\n",
      "         1.32700741e-01,  8.83210897e-02, -1.56191051e-01,\n",
      "        -1.65323049e-01,  1.22720242e-01, -2.69407779e-02,\n",
      "         7.73527026e-02, -8.39814544e-02],\n",
      "       [ 8.25224519e-02,  9.72654223e-02, -3.86386365e-02,\n",
      "        -2.54550874e-02, -1.06146641e-01, -7.52141029e-02,\n",
      "        -1.26143873e-01,  7.79356509e-02, -1.13183640e-01,\n",
      "        -1.64682508e-01,  6.36832714e-02, -5.31771258e-02,\n",
      "        -2.89778560e-02,  1.40524834e-01,  5.45590669e-02,\n",
      "         1.40004903e-01, -1.26490027e-01, -7.65075088e-02,\n",
      "        -1.23593830e-01,  6.64873272e-02, -3.65935713e-02,\n",
      "         2.40683556e-03, -1.46091610e-01, -1.32813901e-01,\n",
      "        -1.11420006e-01, -9.10950974e-02, -5.23084849e-02,\n",
      "        -4.27417457e-03,  1.28397822e-01,  8.93913209e-03,\n",
      "        -1.48274839e-01,  1.58875704e-01,  1.71525180e-01,\n",
      "         3.09750438e-03, -4.20345813e-02,  1.31698877e-01,\n",
      "        -9.73273590e-02,  9.79416668e-02, -1.69515565e-01,\n",
      "        -7.59255067e-02, -2.86679417e-02, -5.56765124e-02,\n",
      "        -7.31661916e-03,  3.10414135e-02, -9.81768966e-02,\n",
      "         7.68985003e-02,  2.87030637e-02, -1.71454921e-01,\n",
      "        -9.00042579e-02,  1.21873885e-01,  4.00896966e-02,\n",
      "         7.60337710e-03,  5.20131588e-02,  2.07042545e-02,\n",
      "         1.20372087e-01, -8.95951092e-02,  7.79618472e-02,\n",
      "        -1.38676733e-01, -1.51658088e-01,  3.55781615e-02,\n",
      "         1.58635020e-01,  2.73070186e-02,  1.05532259e-01,\n",
      "        -1.50396526e-02,  5.92821538e-02, -1.92441046e-02,\n",
      "         1.51764482e-01, -1.62554979e-01, -1.15034908e-01,\n",
      "        -1.53286621e-01, -3.50203812e-02,  1.16841495e-01,\n",
      "        -1.63059682e-02, -4.20260131e-02,  6.19456172e-02,\n",
      "        -7.38440827e-02,  1.71422392e-01,  8.94169211e-02,\n",
      "        -5.14547676e-02,  4.34106290e-02, -1.29763037e-02,\n",
      "         8.27284157e-02,  5.48005402e-02, -6.17216602e-02,\n",
      "         1.71566993e-01, -1.07514039e-01, -1.82815641e-02,\n",
      "         1.56377882e-01, -8.56180638e-02, -5.25504053e-02,\n",
      "        -1.09848730e-01, -1.52592346e-01,  1.00079119e-01,\n",
      "        -3.58609408e-02,  6.19110763e-02,  4.70284373e-02,\n",
      "         1.58358634e-01,  1.65851533e-01,  9.36591327e-02,\n",
      "        -1.22563943e-01, -3.55635583e-02, -8.76723528e-02,\n",
      "        -3.91135812e-02,  6.58155978e-02, -4.92962003e-02,\n",
      "        -1.46956891e-01, -2.67169476e-02,  1.57515377e-01,\n",
      "         3.42147350e-02, -1.36814028e-01,  2.87559777e-02,\n",
      "        -4.43193913e-02, -9.18738469e-02, -1.24650158e-01,\n",
      "        -1.46593601e-02, -8.62386376e-02, -1.30281195e-01,\n",
      "        -8.15288723e-02, -1.10226035e-01,  1.19592309e-01,\n",
      "        -8.07511508e-02, -1.67566091e-01, -6.75499737e-02,\n",
      "         6.53301328e-02, -7.94664249e-02,  8.88265967e-02,\n",
      "         1.70427114e-02,  4.73946333e-02, -4.43403870e-02,\n",
      "         3.72938365e-02, -3.53428721e-02,  9.36322808e-02,\n",
      "         7.09689856e-02, -1.54660821e-01,  1.07977957e-01,\n",
      "        -1.76962763e-02,  2.65621692e-02,  6.76679760e-02,\n",
      "         1.15497351e-01, -7.72776529e-02, -3.10687870e-02,\n",
      "         1.47682428e-01,  1.96738839e-02, -3.86805385e-02,\n",
      "        -1.61196142e-01, -9.34780762e-02, -1.10311374e-01,\n",
      "         5.18375635e-02,  9.81063843e-02,  2.79005766e-02,\n",
      "        -1.69655636e-01,  4.94331419e-02,  1.54602170e-01,\n",
      "         1.57352537e-01,  1.44742548e-01,  6.81558698e-02,\n",
      "        -1.43024266e-01,  9.52314734e-02, -5.37917987e-02,\n",
      "         8.38072598e-02,  3.28646749e-02, -1.39090359e-01,\n",
      "        -1.39663413e-01,  5.26189804e-02, -6.32373095e-02,\n",
      "        -1.05309688e-01,  3.40100378e-02, -7.63615891e-02,\n",
      "         9.54043269e-02, -1.10274613e-01, -1.48404494e-01,\n",
      "         1.55991316e-01, -9.90562141e-03, -5.20034060e-02,\n",
      "         1.57229275e-01, -1.09716177e-01,  6.50695264e-02,\n",
      "        -1.35077566e-01, -1.32362247e-01,  2.50739753e-02,\n",
      "        -1.22699529e-01, -2.62590498e-02, -6.69061989e-02,\n",
      "        -3.41548920e-02,  7.03373551e-02,  1.26359314e-02,\n",
      "         3.45306396e-02, -7.08817244e-02, -7.38829002e-02,\n",
      "        -2.59124041e-02,  1.24804825e-01, -5.94961569e-02,\n",
      "        -6.84471428e-02,  2.12353170e-02,  5.26911616e-02,\n",
      "        -1.47159994e-01,  1.57752275e-01, -1.14480041e-01,\n",
      "         1.51701927e-01, -8.65073577e-02]], dtype=float32), array([[-0.07232738,  0.05982839,  0.02267441, ...,  0.02580246,\n",
      "        -0.10707226, -0.07531609],\n",
      "       [ 0.0481675 , -0.05817425,  0.07595916, ...,  0.00912737,\n",
      "         0.05964275,  0.00896529],\n",
      "       [ 0.01320694,  0.04416072, -0.07647502, ...,  0.06908738,\n",
      "         0.10242026, -0.08795641],\n",
      "       ...,\n",
      "       [-0.05436964,  0.01104162, -0.05255151, ...,  0.02091476,\n",
      "         0.11887047,  0.06621315],\n",
      "       [ 0.06854225,  0.04069671, -0.04051694, ...,  0.07980287,\n",
      "        -0.10683761, -0.00288008],\n",
      "       [-0.0505624 ,  0.00141655,  0.12330781, ..., -0.05498943,\n",
      "        -0.07942193, -0.02704428]], dtype=float32), array([0., 0., 0., 0., 0., 0., 0., 0., 0., 0., 0., 0., 0., 0., 0., 0., 0.,\n",
      "       0., 0., 0., 0., 0., 0., 0., 0., 0., 0., 0., 0., 0., 0., 0., 0., 0.,\n",
      "       0., 0., 0., 0., 0., 0., 0., 0., 0., 0., 0., 0., 0., 0., 0., 0., 1.,\n",
      "       1., 1., 1., 1., 1., 1., 1., 1., 1., 1., 1., 1., 1., 1., 1., 1., 1.,\n",
      "       1., 1., 1., 1., 1., 1., 1., 1., 1., 1., 1., 1., 1., 1., 1., 1., 1.,\n",
      "       1., 1., 1., 1., 1., 1., 1., 1., 1., 1., 1., 1., 1., 1., 1., 0., 0.,\n",
      "       0., 0., 0., 0., 0., 0., 0., 0., 0., 0., 0., 0., 0., 0., 0., 0., 0.,\n",
      "       0., 0., 0., 0., 0., 0., 0., 0., 0., 0., 0., 0., 0., 0., 0., 0., 0.,\n",
      "       0., 0., 0., 0., 0., 0., 0., 0., 0., 0., 0., 0., 0., 0., 0., 0., 0.,\n",
      "       0., 0., 0., 0., 0., 0., 0., 0., 0., 0., 0., 0., 0., 0., 0., 0., 0.,\n",
      "       0., 0., 0., 0., 0., 0., 0., 0., 0., 0., 0., 0., 0., 0., 0., 0., 0.,\n",
      "       0., 0., 0., 0., 0., 0., 0., 0., 0., 0., 0., 0., 0.], dtype=float32)]\n"
     ]
    }
   ],
   "source": [
    "print(model.layers[0].get_weights())"
   ]
  },
  {
   "cell_type": "code",
   "execution_count": 181,
   "id": "7f650d5f",
   "metadata": {},
   "outputs": [
    {
     "name": "stdout",
     "output_type": "stream",
     "text": [
      "[array([[-0.05480881,  0.0747395 , -0.052416  , ..., -0.04386514,\n",
      "         0.12672223, -0.12175874],\n",
      "       [-0.1463923 , -0.14110747,  0.032519  , ...,  0.100805  ,\n",
      "         0.12502222, -0.0996304 ],\n",
      "       [ 0.11977525, -0.08874092,  0.15010695, ..., -0.04613177,\n",
      "        -0.12049834,  0.02772523],\n",
      "       ...,\n",
      "       [-0.15359616,  0.09587391, -0.0789265 , ...,  0.11983423,\n",
      "         0.14535241,  0.02446233],\n",
      "       [-0.00419918,  0.0824492 , -0.01020266, ..., -0.03477617,\n",
      "        -0.08764054,  0.0560313 ],\n",
      "       [-0.03050353, -0.12278698, -0.08224546, ...,  0.14939688,\n",
      "        -0.01911756,  0.04212877]], dtype=float32), array([[-0.07698798,  0.0256577 ,  0.01504354, ...,  0.0057388 ,\n",
      "         0.06250341,  0.06905006],\n",
      "       [-0.01941532,  0.01372087, -0.17131864, ...,  0.05947554,\n",
      "        -0.14818609,  0.06497662],\n",
      "       [-0.07515326, -0.02651028, -0.04977953, ..., -0.00578357,\n",
      "        -0.03572923,  0.14074518],\n",
      "       ...,\n",
      "       [ 0.02820635, -0.09915983, -0.07694969, ..., -0.13460965,\n",
      "         0.00736925, -0.11486286],\n",
      "       [ 0.04667029, -0.05801683,  0.09541453, ...,  0.03897646,\n",
      "         0.04715626,  0.09454484],\n",
      "       [ 0.05990262,  0.03447297,  0.04218521, ...,  0.00501702,\n",
      "        -0.06808284, -0.0799383 ]], dtype=float32), array([0., 0., 0., 0., 0., 0., 0., 0., 0., 0., 0., 0., 0., 0., 0., 0., 0.,\n",
      "       0., 0., 0., 0., 0., 0., 0., 0., 0., 0., 0., 0., 0., 0., 0., 0., 0.,\n",
      "       0., 0., 0., 0., 0., 0., 0., 0., 0., 0., 0., 0., 0., 0., 0., 0., 1.,\n",
      "       1., 1., 1., 1., 1., 1., 1., 1., 1., 1., 1., 1., 1., 1., 1., 1., 1.,\n",
      "       1., 1., 1., 1., 1., 1., 1., 1., 1., 1., 1., 1., 1., 1., 1., 1., 1.,\n",
      "       1., 1., 1., 1., 1., 1., 1., 1., 1., 1., 1., 1., 1., 1., 1., 0., 0.,\n",
      "       0., 0., 0., 0., 0., 0., 0., 0., 0., 0., 0., 0., 0., 0., 0., 0., 0.,\n",
      "       0., 0., 0., 0., 0., 0., 0., 0., 0., 0., 0., 0., 0., 0., 0., 0., 0.,\n",
      "       0., 0., 0., 0., 0., 0., 0., 0., 0., 0., 0., 0., 0., 0., 0., 0., 0.,\n",
      "       0., 0., 0., 0., 0., 0., 0., 0., 0., 0., 0., 0., 0., 0., 0., 0., 0.,\n",
      "       0., 0., 0., 0., 0., 0., 0., 0., 0., 0., 0., 0., 0., 0., 0., 0., 0.,\n",
      "       0., 0., 0., 0., 0., 0., 0., 0., 0., 0., 0., 0., 0.], dtype=float32)]\n"
     ]
    }
   ],
   "source": [
    "print(model.layers[1].get_weights())"
   ]
  },
  {
   "cell_type": "code",
   "execution_count": 182,
   "id": "c002e3fd",
   "metadata": {},
   "outputs": [
    {
     "name": "stdout",
     "output_type": "stream",
     "text": [
      "[array([[ 5.76321781e-02, -1.84028596e-02,  8.05952847e-02, ...,\n",
      "        -2.92849094e-02, -7.60582611e-02,  1.11180112e-01],\n",
      "       [ 5.30964136e-03, -1.23805307e-01,  9.80345160e-02, ...,\n",
      "        -1.44904718e-01, -1.01179376e-01,  1.14463702e-01],\n",
      "       [-1.54167414e-04,  1.54671684e-01,  1.38381138e-01, ...,\n",
      "         7.23615140e-02,  7.10780770e-02, -7.94079155e-02],\n",
      "       ...,\n",
      "       [-6.12870678e-02, -4.74722460e-02,  1.17137685e-01, ...,\n",
      "        -6.98556900e-02,  1.72713250e-02, -8.87204707e-03],\n",
      "       [-9.55766439e-02,  6.60173595e-03, -1.54768825e-02, ...,\n",
      "        -1.35611147e-02,  8.55542272e-02, -2.94491202e-02],\n",
      "       [-1.42880753e-01, -6.31949753e-02,  4.84234095e-02, ...,\n",
      "         7.98231363e-03,  6.59741610e-02, -2.91688889e-02]], dtype=float32), array([[ 0.03001547,  0.005058  ,  0.02356689, ...,  0.03747818,\n",
      "        -0.2669287 ,  0.0662753 ],\n",
      "       [ 0.02372596,  0.02681065,  0.04414796, ..., -0.04766072,\n",
      "        -0.03380624,  0.0027659 ],\n",
      "       [-0.10567878, -0.00282166, -0.10878575, ..., -0.06001732,\n",
      "        -0.13096032, -0.0400124 ],\n",
      "       ...,\n",
      "       [ 0.0051747 , -0.02864167, -0.08592054, ...,  0.05615083,\n",
      "         0.08951543, -0.08127717],\n",
      "       [-0.03208987, -0.16156287,  0.04936139, ...,  0.0605102 ,\n",
      "        -0.11796927,  0.07441919],\n",
      "       [ 0.02750872, -0.01998899, -0.0879304 , ...,  0.00787749,\n",
      "        -0.02974445,  0.02502038]], dtype=float32), array([0., 0., 0., 0., 0., 0., 0., 0., 0., 0., 0., 0., 0., 0., 0., 0., 0.,\n",
      "       0., 0., 0., 0., 0., 0., 0., 0., 0., 0., 0., 0., 0., 0., 0., 0., 0.,\n",
      "       0., 0., 0., 0., 0., 0., 0., 0., 0., 0., 0., 0., 0., 0., 0., 0., 1.,\n",
      "       1., 1., 1., 1., 1., 1., 1., 1., 1., 1., 1., 1., 1., 1., 1., 1., 1.,\n",
      "       1., 1., 1., 1., 1., 1., 1., 1., 1., 1., 1., 1., 1., 1., 1., 1., 1.,\n",
      "       1., 1., 1., 1., 1., 1., 1., 1., 1., 1., 1., 1., 1., 1., 1., 0., 0.,\n",
      "       0., 0., 0., 0., 0., 0., 0., 0., 0., 0., 0., 0., 0., 0., 0., 0., 0.,\n",
      "       0., 0., 0., 0., 0., 0., 0., 0., 0., 0., 0., 0., 0., 0., 0., 0., 0.,\n",
      "       0., 0., 0., 0., 0., 0., 0., 0., 0., 0., 0., 0., 0., 0., 0., 0., 0.,\n",
      "       0., 0., 0., 0., 0., 0., 0., 0., 0., 0., 0., 0., 0., 0., 0., 0., 0.,\n",
      "       0., 0., 0., 0., 0., 0., 0., 0., 0., 0., 0., 0., 0., 0., 0., 0., 0.,\n",
      "       0., 0., 0., 0., 0., 0., 0., 0., 0., 0., 0., 0., 0.], dtype=float32)]\n"
     ]
    }
   ],
   "source": [
    "print(model.layers[2].get_weights())"
   ]
  },
  {
   "cell_type": "code",
   "execution_count": 183,
   "id": "ff8f120e",
   "metadata": {},
   "outputs": [
    {
     "name": "stdout",
     "output_type": "stream",
     "text": [
      "[array([[ 0.33879188],\n",
      "       [-0.2975754 ],\n",
      "       [-0.14433116],\n",
      "       [-0.2163187 ],\n",
      "       [-0.02548102],\n",
      "       [ 0.26071706],\n",
      "       [-0.32100433],\n",
      "       [ 0.05351692],\n",
      "       [-0.04081616],\n",
      "       [ 0.00427684],\n",
      "       [ 0.03047889],\n",
      "       [-0.07064453],\n",
      "       [ 0.27788904],\n",
      "       [ 0.02861661],\n",
      "       [ 0.1217308 ],\n",
      "       [ 0.31296828],\n",
      "       [-0.05083016],\n",
      "       [-0.34263703],\n",
      "       [ 0.1972982 ],\n",
      "       [-0.0421209 ],\n",
      "       [ 0.16934583],\n",
      "       [ 0.0937008 ],\n",
      "       [-0.26108664],\n",
      "       [-0.05837381],\n",
      "       [-0.1001758 ],\n",
      "       [-0.07245973],\n",
      "       [-0.26271647],\n",
      "       [ 0.3254964 ],\n",
      "       [ 0.2598594 ],\n",
      "       [ 0.32780948],\n",
      "       [ 0.08407173],\n",
      "       [ 0.18594816],\n",
      "       [ 0.25005224],\n",
      "       [ 0.13221616],\n",
      "       [ 0.02879423],\n",
      "       [ 0.08511281],\n",
      "       [-0.26032245],\n",
      "       [ 0.04033881],\n",
      "       [-0.08638847],\n",
      "       [ 0.06645012],\n",
      "       [-0.3069006 ],\n",
      "       [-0.0660328 ],\n",
      "       [ 0.04074484],\n",
      "       [-0.3070549 ],\n",
      "       [ 0.208536  ],\n",
      "       [-0.12465571],\n",
      "       [ 0.20783481],\n",
      "       [-0.27162433],\n",
      "       [ 0.01488569],\n",
      "       [-0.19020529]], dtype=float32), array([0.], dtype=float32)]\n"
     ]
    }
   ],
   "source": [
    "print(model.layers[3].get_weights())"
   ]
  },
  {
   "cell_type": "code",
   "execution_count": 60,
   "id": "14be6f17",
   "metadata": {
    "scrolled": true
   },
   "outputs": [
    {
     "name": "stdout",
     "output_type": "stream",
     "text": [
      "1/1 [==============================] - 0s 41ms/step\n",
      "1/1 [==============================] - 0s 41ms/step\n",
      "1/1 [==============================] - 0s 40ms/step\n",
      "1/1 [==============================] - 0s 40ms/step\n",
      "1/1 [==============================] - 0s 40ms/step\n",
      "1/1 [==============================] - 0s 39ms/step\n",
      "1/1 [==============================] - 0s 43ms/step\n",
      "1/1 [==============================] - 0s 39ms/step\n",
      "1/1 [==============================] - 0s 40ms/step\n",
      "1/1 [==============================] - 0s 41ms/step\n",
      "1/1 [==============================] - 0s 40ms/step\n",
      "1/1 [==============================] - 0s 40ms/step\n",
      "1/1 [==============================] - 0s 39ms/step\n",
      "1/1 [==============================] - 0s 40ms/step\n",
      "1/1 [==============================] - 0s 40ms/step\n",
      "1/1 [==============================] - 0s 41ms/step\n",
      "1/1 [==============================] - 0s 40ms/step\n",
      "1/1 [==============================] - 0s 40ms/step\n",
      "1/1 [==============================] - 0s 42ms/step\n",
      "1/1 [==============================] - 0s 40ms/step\n",
      "1/1 [==============================] - 0s 41ms/step\n",
      "1/1 [==============================] - 0s 43ms/step\n",
      "1/1 [==============================] - 0s 40ms/step\n",
      "1/1 [==============================] - 0s 41ms/step\n",
      "1/1 [==============================] - 0s 39ms/step\n",
      "1/1 [==============================] - 0s 40ms/step\n",
      "1/1 [==============================] - 0s 38ms/step\n",
      "1/1 [==============================] - 0s 40ms/step\n",
      "1/1 [==============================] - 0s 41ms/step\n",
      "1/1 [==============================] - 0s 40ms/step\n",
      "1/1 [==============================] - 0s 41ms/step\n",
      "1/1 [==============================] - 0s 44ms/step\n",
      "1/1 [==============================] - 0s 44ms/step\n",
      "1/1 [==============================] - 0s 40ms/step\n",
      "1/1 [==============================] - 0s 42ms/step\n",
      "1/1 [==============================] - 0s 41ms/step\n",
      "1/1 [==============================] - 0s 43ms/step\n",
      "1/1 [==============================] - 0s 39ms/step\n",
      "1/1 [==============================] - 0s 41ms/step\n",
      "1/1 [==============================] - 0s 42ms/step\n",
      "Predicted Future Values:\n",
      "[[ 0.93584263 86.87979   ]\n",
      " [ 0.93753403 87.06068   ]\n",
      " [ 0.9414106  87.35898   ]\n",
      " [ 0.9464754  87.68073   ]\n",
      " [ 0.95104396 87.924     ]\n",
      " [ 0.9539359  88.052124  ]\n",
      " [ 0.955188   88.09711   ]\n",
      " [ 0.95554316 88.10798   ]\n",
      " [ 0.95563173 88.11152   ]\n",
      " [ 0.95566237 88.11112   ]\n",
      " [ 0.9556058  88.10406   ]\n",
      " [ 0.9554489  88.09203   ]\n",
      " [ 0.9552478  88.07924   ]\n",
      " [ 0.9550573  88.06776   ]\n",
      " [ 0.9548861  88.05698   ]\n",
      " [ 0.95471567 88.04572   ]\n",
      " [ 0.9545337  88.03378   ]\n",
      " [ 0.95434433 88.02164   ]\n",
      " [ 0.95415556 88.00967   ]\n",
      " [ 0.9539698  87.99779   ]]\n"
     ]
    }
   ],
   "source": [
    "import numpy as np\n",
    "import pandas as pd\n",
    "from sklearn.preprocessing import MinMaxScaler\n",
    "from keras.preprocessing.sequence import TimeseriesGenerator\n",
    "\n",
    "\n",
    "\n",
    "# Define a function to predict future values for both 'Fc' and 'Tr'\n",
    "def predict_future_values(model, input_data, win_length, num_predictions=40):\n",
    "    predictions = []\n",
    "\n",
    "    current_input = input_data[-win_length:]\n",
    "\n",
    "    for _ in range(num_predictions):\n",
    "        current_input = current_input.reshape((1, win_length, num_features))\n",
    "        next_prediction = model.predict(current_input)\n",
    "        predictions.append(next_prediction[0])\n",
    "\n",
    "        current_input = np.roll(current_input, -1, axis=1)\n",
    "        current_input[0, -1, -1] = next_prediction[0, -1]\n",
    "\n",
    "    return predictions\n",
    "\n",
    "# Use the function to predict future values for both 'Fc' and 'Tr'\n",
    "future_predictions = predict_future_values(model, x_train, win_length, num_predictions=40)\n",
    "\n",
    "# Invert scaling to get the actual values\n",
    "future_predictions = scaler.inverse_transform(np.array(future_predictions).reshape(-1, num_features))\n",
    "\n",
    "print(\"Predicted Future Values:\")\n",
    "print(future_predictions)\n"
   ]
  },
  {
   "cell_type": "code",
   "execution_count": 62,
   "id": "cf1e0149",
   "metadata": {},
   "outputs": [],
   "source": [
    "import pandas as pd\n",
    "import tensorflow as tf\n",
    "from openpyxl import Workbook\n",
    "import numpy as np\n",
    "\n",
    "# Create an Excel workbook\n",
    "workbook = Workbook()\n",
    "sheet = workbook.active\n",
    "\n",
    "# Get the weights of the model's layers\n",
    "model_weights = model.get_weights()\n",
    "\n",
    "\n",
    "for i, layer_weights in enumerate(model_weights):\n",
    "    layer_name = f'Layer_{i}'\n",
    "    sheet[f'A{i + 1}'] = layer_name  # Store the layer name in column A\n",
    "    sheet[f'B{i + 1}'] = 'Weights'  # Column B header\n",
    "    for j, weight in enumerate(layer_weights):\n",
    "        sheet[f'A{i + j + 2}'] = f'Weight_{j + 1}'  # Store weight names in column A\n",
    "        flat_weight = np.array(weight).flatten()  # Flatten the weight array\n",
    "        for k, w in enumerate(flat_weight):\n",
    "            sheet[f'B{i + j + 2 + k}'] = float(w)  \n",
    "\n",
    "\n",
    "workbook.save('model_weights1.xlsx')\n"
   ]
  },
  {
   "cell_type": "code",
   "execution_count": null,
   "id": "d23c968b",
   "metadata": {},
   "outputs": [],
   "source": []
  },
  {
   "cell_type": "code",
   "execution_count": null,
   "id": "e6f5c8f4",
   "metadata": {},
   "outputs": [],
   "source": []
  }
 ],
 "metadata": {
  "kernelspec": {
   "display_name": "Python 3 (ipykernel)",
   "language": "python",
   "name": "python3"
  },
  "language_info": {
   "codemirror_mode": {
    "name": "ipython",
    "version": 3
   },
   "file_extension": ".py",
   "mimetype": "text/x-python",
   "name": "python",
   "nbconvert_exporter": "python",
   "pygments_lexer": "ipython3",
   "version": "3.9.12"
  }
 },
 "nbformat": 4,
 "nbformat_minor": 5
}
